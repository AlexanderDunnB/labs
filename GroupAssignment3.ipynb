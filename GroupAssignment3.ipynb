{
  "nbformat": 4,
  "nbformat_minor": 0,
  "metadata": {
    "colab": {
      "name": "GroupAssignment3.ipynb",
      "provenance": [],
      "include_colab_link": true
    },
    "kernelspec": {
      "name": "python3",
      "display_name": "Python 3"
    }
  },
  "cells": [
    {
      "cell_type": "markdown",
      "metadata": {
        "id": "view-in-github",
        "colab_type": "text"
      },
      "source": [
        "<a href=\"https://colab.research.google.com/github/AlexanderDunnB/labs/blob/main/GroupAssignment3.ipynb\" target=\"_parent\"><img src=\"https://colab.research.google.com/assets/colab-badge.svg\" alt=\"Open In Colab\"/></a>"
      ]
    },
    {
      "cell_type": "code",
      "metadata": {
        "id": "QqlyzOwWQBjk",
        "colab": {
          "base_uri": "https://localhost:8080/"
        },
        "outputId": "533aa566-8a8c-474f-9d10-dff4c46797c6"
      },
      "source": [
        "%load_ext sql"
      ],
      "execution_count": null,
      "outputs": [
        {
          "output_type": "stream",
          "text": [
            "The sql extension is already loaded. To reload it, use:\n",
            "  %reload_ext sql\n"
          ],
          "name": "stdout"
        }
      ]
    },
    {
      "cell_type": "code",
      "metadata": {
        "id": "NzTdcTkaQu3Q",
        "colab": {
          "base_uri": "https://localhost:8080/",
          "height": 35
        },
        "outputId": "d16ee473-cefb-4ab6-f878-b78d8d101d57"
      },
      "source": [
        "%sql sqlite:///GroupMilestone3.db"
      ],
      "execution_count": null,
      "outputs": [
        {
          "output_type": "execute_result",
          "data": {
            "application/vnd.google.colaboratory.intrinsic+json": {
              "type": "string"
            },
            "text/plain": [
              "'Connected: @GroupMilestone3.db'"
            ]
          },
          "metadata": {
            "tags": []
          },
          "execution_count": 4
        }
      ]
    },
    {
      "cell_type": "code",
      "metadata": {
        "id": "y3DMdNjnSoy5",
        "colab": {
          "base_uri": "https://localhost:8080/"
        },
        "outputId": "b65fa773-830c-4914-ddd0-33176839fa28"
      },
      "source": [
        "%%sql\n",
        "CREATE TABLE Staff(SSN text primary key, firstName text, lastName text, dobDay text, dobMonth text, dobYear real);"
      ],
      "execution_count": null,
      "outputs": [
        {
          "output_type": "stream",
          "text": [
            " * sqlite:///GroupMilestone3.db\n",
            "Done.\n"
          ],
          "name": "stdout"
        },
        {
          "output_type": "execute_result",
          "data": {
            "text/plain": [
              "[]"
            ]
          },
          "metadata": {
            "tags": []
          },
          "execution_count": 5
        }
      ]
    },
    {
      "cell_type": "code",
      "metadata": {
        "id": "6NU5FRCcNMFb",
        "colab": {
          "base_uri": "https://localhost:8080/"
        },
        "outputId": "0315f4fd-57c0-4267-ddcc-09610f0b5f67"
      },
      "source": [
        "%%sql\n",
        "CREATE TABLE drinkMenu(drinkMenuID text primary key, price real, popularity real, staff text, seasonal text);"
      ],
      "execution_count": null,
      "outputs": [
        {
          "output_type": "stream",
          "text": [
            " * sqlite:///GroupMilestone3.db\n",
            "Done.\n"
          ],
          "name": "stdout"
        },
        {
          "output_type": "execute_result",
          "data": {
            "text/plain": [
              "[]"
            ]
          },
          "metadata": {
            "tags": []
          },
          "execution_count": 6
        }
      ]
    },
    {
      "cell_type": "code",
      "metadata": {
        "id": "gJIKJl5hPw2A",
        "colab": {
          "base_uri": "https://localhost:8080/"
        },
        "outputId": "b1eaeda0-1f14-4f34-fd6b-411531737879"
      },
      "source": [
        "%%sql\n",
        "CREATE TABLE physicalLocation(addressZIP real primary key, staff text, occupancy real, menu text);"
      ],
      "execution_count": null,
      "outputs": [
        {
          "output_type": "stream",
          "text": [
            " * sqlite:///GroupMilestone3.db\n",
            "Done.\n"
          ],
          "name": "stdout"
        },
        {
          "output_type": "execute_result",
          "data": {
            "text/plain": [
              "[]"
            ]
          },
          "metadata": {
            "tags": []
          },
          "execution_count": 7
        }
      ]
    },
    {
      "cell_type": "code",
      "metadata": {
        "id": "buEqyLpnQhO5",
        "colab": {
          "base_uri": "https://localhost:8080/"
        },
        "outputId": "a5a30cf9-8a5c-4cff-a25a-4b9589da3748"
      },
      "source": [
        "%%sql\n",
        "CREATE TABLE foodMenu(foodMenuID text primary key, price real, popularity real, seasonal text, staff text);\n",
        "CREATE TABLE Reviews(reviewID text primary key, staff text, frequency real, customer text);"
      ],
      "execution_count": null,
      "outputs": [
        {
          "output_type": "stream",
          "text": [
            " * sqlite:///GroupMilestone3.db\n",
            "Done.\n",
            "Done.\n"
          ],
          "name": "stdout"
        },
        {
          "output_type": "execute_result",
          "data": {
            "text/plain": [
              "[]"
            ]
          },
          "metadata": {
            "tags": []
          },
          "execution_count": 8
        }
      ]
    },
    {
      "cell_type": "code",
      "metadata": {
        "colab": {
          "base_uri": "https://localhost:8080/"
        },
        "id": "5QGcLsaBbfdd",
        "outputId": "24766765-3764-47b9-9e0c-bbe0ae7ab34d"
      },
      "source": [
        "%%sql\n",
        "INSERT INTO drinkMenu VALUES('budlite', 3.50, 5, 'bartender', 'no');"
      ],
      "execution_count": null,
      "outputs": [
        {
          "output_type": "stream",
          "text": [
            " * sqlite:///GroupMilestone3.db\n",
            "1 rows affected.\n"
          ],
          "name": "stdout"
        },
        {
          "output_type": "execute_result",
          "data": {
            "text/plain": [
              "[]"
            ]
          },
          "metadata": {
            "tags": []
          },
          "execution_count": 9
        }
      ]
    },
    {
      "cell_type": "code",
      "metadata": {
        "id": "03Mo6zuqbuaD",
        "colab": {
          "base_uri": "https://localhost:8080/"
        },
        "outputId": "71d09a68-8d8c-46b0-ba92-fd18e08d0893"
      },
      "source": [
        "%%sql\n",
        "INSERT INTO drinkMenu VALUES('miller lite', 4.00, 7, 'bartender', 'no');"
      ],
      "execution_count": null,
      "outputs": [
        {
          "output_type": "stream",
          "text": [
            " * sqlite:///GroupMilestone3.db\n",
            "1 rows affected.\n"
          ],
          "name": "stdout"
        },
        {
          "output_type": "execute_result",
          "data": {
            "text/plain": [
              "[]"
            ]
          },
          "metadata": {
            "tags": []
          },
          "execution_count": 10
        }
      ]
    },
    {
      "cell_type": "code",
      "metadata": {
        "id": "ayYGk1gQcFyy",
        "colab": {
          "base_uri": "https://localhost:8080/"
        },
        "outputId": "7eb10d7e-47f5-40c2-f411-5af8eeb39243"
      },
      "source": [
        "%%sql\n",
        "INSERT INTO drinkMenu VALUES('coke', 2.00, 9, 'bartender', 'no');\n",
        "INSERT INTO drinkMenu VALUES('hot chocolate', 3.00, 6, 'bartender', 'yes');\n",
        "INSERT INTO drinkMenu VALUES('water', 0, 10, 'bartender', 'no');"
      ],
      "execution_count": null,
      "outputs": [
        {
          "output_type": "stream",
          "text": [
            " * sqlite:///GroupMilestone3.db\n",
            "1 rows affected.\n",
            "1 rows affected.\n",
            "1 rows affected.\n"
          ],
          "name": "stdout"
        },
        {
          "output_type": "execute_result",
          "data": {
            "text/plain": [
              "[]"
            ]
          },
          "metadata": {
            "tags": []
          },
          "execution_count": 11
        }
      ]
    },
    {
      "cell_type": "markdown",
      "metadata": {
        "id": "7XRSOZ3Dc7wT"
      },
      "source": [
        "What are the top 3 most to least popular drinks?"
      ]
    },
    {
      "cell_type": "markdown",
      "metadata": {
        "id": "mb7uIpNbzLtS"
      },
      "source": [
        "The top three most popular drinks is immortant imformtion to have. It allows the establishment to better tailor theyre purchasing of drinks to what is selling the fastest and therefore not waste money and space on low sellers. The results are not surprising. It makes sense for water and coke to be number one and two respectevily in party because they are non alcoholic and therefore can be enhjoyed by everyone but also because they are popular options to go with an adult beverage."
      ]
    },
    {
      "cell_type": "code",
      "metadata": {
        "colab": {
          "base_uri": "https://localhost:8080/",
          "height": 137
        },
        "id": "Cm6gKYpadCwa",
        "outputId": "ac3b48b4-40f4-4909-cccf-a35b8ec7604f"
      },
      "source": [
        "%%sql\n",
        "SELECT drinkMenuID,popularity FROM drinkMenu ORDER BY popularity DESC limit 3;"
      ],
      "execution_count": null,
      "outputs": [
        {
          "output_type": "stream",
          "text": [
            " * sqlite:///GroupMilestone3.db\n",
            "Done.\n"
          ],
          "name": "stdout"
        },
        {
          "output_type": "execute_result",
          "data": {
            "text/html": [
              "<table>\n",
              "    <tr>\n",
              "        <th>drinkMenuID</th>\n",
              "        <th>popularity</th>\n",
              "    </tr>\n",
              "    <tr>\n",
              "        <td>water</td>\n",
              "        <td>10.0</td>\n",
              "    </tr>\n",
              "    <tr>\n",
              "        <td>coke</td>\n",
              "        <td>9.0</td>\n",
              "    </tr>\n",
              "    <tr>\n",
              "        <td>miller lite</td>\n",
              "        <td>7.0</td>\n",
              "    </tr>\n",
              "</table>"
            ],
            "text/plain": [
              "[('water', 10.0), ('coke', 9.0), ('miller lite', 7.0)]"
            ]
          },
          "metadata": {
            "tags": []
          },
          "execution_count": 12
        }
      ]
    },
    {
      "cell_type": "markdown",
      "metadata": {
        "id": "hSH8jtzOe2cG"
      },
      "source": [
        "Which drinks are seasonal?"
      ]
    },
    {
      "cell_type": "markdown",
      "metadata": {
        "id": "jZ50vRq3zubc"
      },
      "source": [
        "Seasonal drinks are important to know once again for purchasing reasons. For example hot chocolate is a seasonal drink. For the most part it is only purchased during winter and fall. This information allows the purchaser to not waste money and space on hot choclate during the summer and spring when demand for the drink is very low. The result of hot chocolate being seasonal is not at all surprising. The beverage has very strong ties to the winter months."
      ]
    },
    {
      "cell_type": "code",
      "metadata": {
        "colab": {
          "base_uri": "https://localhost:8080/",
          "height": 95
        },
        "id": "ipf0nna_e5fi",
        "outputId": "ff5f91e8-6d78-48e3-9489-2aef9fb1e2e4"
      },
      "source": [
        "%%sql\n",
        "SELECT drinkMenuID,seasonal FROM drinkMenu WHERE seasonal = 'yes'; "
      ],
      "execution_count": null,
      "outputs": [
        {
          "output_type": "stream",
          "text": [
            " * sqlite:///GroupMilestone3.db\n",
            "Done.\n"
          ],
          "name": "stdout"
        },
        {
          "output_type": "execute_result",
          "data": {
            "text/html": [
              "<table>\n",
              "    <tr>\n",
              "        <th>drinkMenuID</th>\n",
              "        <th>seasonal</th>\n",
              "    </tr>\n",
              "    <tr>\n",
              "        <td>hot chocolate</td>\n",
              "        <td>yes</td>\n",
              "    </tr>\n",
              "</table>"
            ],
            "text/plain": [
              "[('hot chocolate', 'yes')]"
            ]
          },
          "metadata": {
            "tags": []
          },
          "execution_count": 15
        }
      ]
    },
    {
      "cell_type": "markdown",
      "metadata": {
        "id": "bnoB8JpBkKsi"
      },
      "source": [
        "What are the top 3 most expensive drinks?"
      ]
    },
    {
      "cell_type": "markdown",
      "metadata": {
        "id": "6bXqJVhg0PRh"
      },
      "source": [
        "The top three most important drinks is important information becuase it allows us to tailor our target audience for those drinks. For example, most college kids probably are not looking for expensive, luxury drinks. On the other hand proffessors or visitng people might be more interested in those drinks. The results are fairly sureprising. I would not have expected lite beer, and hot chocolate to be the most expensive menu items."
      ]
    },
    {
      "cell_type": "code",
      "metadata": {
        "id": "P8cBV7GpkQUI",
        "colab": {
          "base_uri": "https://localhost:8080/",
          "height": 137
        },
        "outputId": "d672205e-fda9-4f8e-c678-44c7c2a76ed0"
      },
      "source": [
        "%%sql\n",
        "SELECT drinkMenuID,price FROM drinkMenu ORDER BY price DESC limit 3;"
      ],
      "execution_count": null,
      "outputs": [
        {
          "output_type": "stream",
          "text": [
            " * sqlite:///GroupMilestone3.db\n",
            "Done.\n"
          ],
          "name": "stdout"
        },
        {
          "output_type": "execute_result",
          "data": {
            "text/html": [
              "<table>\n",
              "    <tr>\n",
              "        <th>drinkMenuID</th>\n",
              "        <th>price</th>\n",
              "    </tr>\n",
              "    <tr>\n",
              "        <td>miller lite</td>\n",
              "        <td>4.0</td>\n",
              "    </tr>\n",
              "    <tr>\n",
              "        <td>budlite</td>\n",
              "        <td>3.5</td>\n",
              "    </tr>\n",
              "    <tr>\n",
              "        <td>hot chocolate</td>\n",
              "        <td>3.0</td>\n",
              "    </tr>\n",
              "</table>"
            ],
            "text/plain": [
              "[('miller lite', 4.0), ('budlite', 3.5), ('hot chocolate', 3.0)]"
            ]
          },
          "metadata": {
            "tags": []
          },
          "execution_count": 16
        }
      ]
    },
    {
      "cell_type": "markdown",
      "metadata": {
        "id": "Ivuzp414nmrY"
      },
      "source": [
        "![ER DIagram](https://raw.githubusercontent.com/NWG4735/IST-210/master/Images/Group%20Project%202(updated).png)"
      ]
    }
  ]
}